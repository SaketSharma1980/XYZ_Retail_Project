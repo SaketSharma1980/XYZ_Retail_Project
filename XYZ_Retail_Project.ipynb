{
 "cells": [
  {
   "cell_type": "markdown",
   "id": "dce3a72d-056e-49db-bb27-aa424aecbeee",
   "metadata": {},
   "source": [
    "## Data Analysis for a Retail Company\n",
    "### Project Overview:\n",
    "XYZ Retail Company, a leading retailer in the industry, is looking to enhance its data\n",
    "analysis capabilities. To do this, they are developing a suite of Python-based tools to\n",
    "analyze their business data effectively. As a junior data scientist, your task is to\n",
    "create and implement various Python codes to solve basic data science problems\n",
    "related to their operations.\n"
   ]
  },
  {
   "cell_type": "code",
   "execution_count": null,
   "id": "d475ddf5-62bb-4238-9223-7aca2d70c6f5",
   "metadata": {},
   "outputs": [],
   "source": []
  },
  {
   "cell_type": "markdown",
   "id": "e346d813-ab30-496e-88ba-e13981e674cd",
   "metadata": {},
   "source": [
    "#### Task 1: Sales Data Summary\n",
    "##### Objective: XYZ Retail wants to automate the process of calculating basic sales metrics\n",
    "- Assign the number of units sold in two categories, `Category A` and `Category\n",
    "B`, to variables\n",
    "- Calculate the total units sold, the difference between the categories, and the\n",
    "ratio of units sold.\n",
    "- Print these results clearly on the management team"
   ]
  },
  {
   "cell_type": "code",
   "execution_count": 12,
   "id": "7ab78716-cd76-4e39-80e2-7b6c4703fb52",
   "metadata": {},
   "outputs": [
    {
     "name": "stdout",
     "output_type": "stream",
     "text": [
      "Sales Data Summary:\n",
      "Total units sold: 270\n",
      "Difference Between Categories: 30\n",
      "Ratio of Category A to Category B: 1.25\n"
     ]
    }
   ],
   "source": [
    "# Assigning values to the variables\n",
    "\n",
    "Category_A = 150\n",
    "Category_B = 120\n",
    "\n",
    "# Calculation using arithmetic operations on variables\n",
    "\n",
    "x = Category_A + Category_B\n",
    "y = Category_A - Category_B\n",
    "z = Category_A/Category_B\n",
    "\n",
    "# Displaying results \n",
    "\n",
    "print(\"Sales Data Summary:\")\n",
    "print(\"Total units sold:\", x)\n",
    "print(\"Difference Between Categories:\", y)\n",
    "print(\"Ratio of Category A to Category B:\",z) \n"
   ]
  },
  {
   "cell_type": "code",
   "execution_count": null,
   "id": "f7aedf65-1a62-4629-b612-28fd67236369",
   "metadata": {},
   "outputs": [],
   "source": []
  },
  {
   "cell_type": "markdown",
   "id": "5cf2c1e8-fb5f-49a2-acf8-c6f281d2c162",
   "metadata": {},
   "source": [
    "#### Task 2: Customer Age Data\n",
    "##### Objective: Understanding the age distribution of customers is crucial for marketing strategies\n",
    "- Store a customer's name and age\n",
    "- Convert the age into a string and create a personalized marketing message\n",
    "like \"Dear John Doe, at 30, you’re eligible for our premium loyalty program.\"\n",
    "- Print the message for use in email campaigns."
   ]
  },
  {
   "cell_type": "code",
   "execution_count": 22,
   "id": "c190e468-677f-49b2-8e24-0173ed5c8919",
   "metadata": {},
   "outputs": [
    {
     "name": "stdout",
     "output_type": "stream",
     "text": [
      "Dear John Doe, at 30, you’re eligible for our premium loyalty program.\n"
     ]
    }
   ],
   "source": [
    "# Storing customer information\n",
    "\n",
    "customer_name = \"John Doe\"\n",
    "customer_age = 30\n",
    "\n",
    "# Converting age to string and storing in variable age_str\n",
    "age_str = str(customer_age)\n",
    "\n",
    "# Creating the personalized marketing message\n",
    "\n",
    "message = f\"Dear {customer_name}, at {age_str}, you’re eligible for our premium loyalty program.\"\n",
    "\n",
    "# Printing the message\n",
    "\n",
    "print(message)\n",
    "\n"
   ]
  },
  {
   "cell_type": "code",
   "execution_count": null,
   "id": "c82a6b02-a206-44ca-bf66-4c1a843caee1",
   "metadata": {},
   "outputs": [],
   "source": []
  },
  {
   "cell_type": "markdown",
   "id": "5b8bf1e0-b05a-4189-a2fd-25f8ef20ceae",
   "metadata": {},
   "source": [
    "#### Task 3: Product List Management\n",
    "##### Objective: Efficient management of the product list is essential for inventory control\n",
    "\n",
    "- Given a list of product prices, extract the highest and lowest prices.\n",
    "- Create a new list with the mid-range products.\n",
    "- Add a new premium product price to the list and print the updated list for the\n",
    "inventory team.\n"
   ]
  },
  {
   "cell_type": "code",
   "execution_count": 28,
   "id": "c7339519-a73a-4a9e-abe3-33a25959aabd",
   "metadata": {},
   "outputs": [
    {
     "name": "stdout",
     "output_type": "stream",
     "text": [
      "Highest Price: 200\n",
      "Lowest Price: 30\n",
      "Mid-Range Products: [50, 120, 90, 150, 180]\n",
      "Updated Product List with Premium Price: [50, 120, 30, 200, 90, 150, 180, 250]\n"
     ]
    }
   ],
   "source": [
    "# Creating list of product prices\n",
    "product_prices = [50, 120, 30, 200, 90, 150, 180]\n",
    "premium_product_price = 250\n",
    "\n",
    "# Extracting highest and lowest prices\n",
    "highest_price = max(product_prices)\n",
    "lowest_price = min(product_prices)\n",
    "\n",
    "# Creating mid range product using for loop (excluding highest and lowest)\n",
    "mid_range_products = []\n",
    "for i in product_prices:\n",
    "    if i != highest_price and i != lowest_price:\n",
    "        mid_range_products.append(i)\n",
    "\n",
    "# Add the premium product price to the original list\n",
    "updated_product_prices = product_prices.copy()              # copying list from product_price and storing it in new varaible updated_product_prices\n",
    "updated_product_prices.append(premium_product_price)\n",
    "\n",
    "\n",
    "# Step 4: Print results\n",
    "print(\"Highest Price:\", highest_price)\n",
    "print(\"Lowest Price:\", lowest_price)\n",
    "print(\"Mid-Range Products:\", mid_range_products)\n",
    "print(\"Updated Product List with Premium Price:\", updated_product_prices)\n",
    "\n"
   ]
  },
  {
   "cell_type": "code",
   "execution_count": null,
   "id": "32759c11-9469-4189-a11d-2b46977064ec",
   "metadata": {},
   "outputs": [],
   "source": []
  },
  {
   "cell_type": "markdown",
   "id": "ac6ce86e-c5a4-4a2b-80b0-1f06cef108e4",
   "metadata": {},
   "source": [
    "#### Task 4: Inventory Lookup\n",
    "##### Objective: Quick access to product details is important for customer service representatives.\n",
    "\n",
    "- Create a dictionary storing key information about a product (e.g.,\n",
    "`product_name`, `SKU`, `price`, `category`)\n",
    "- Print the product name and SKU when queried by a customer service\n",
    "representative."
   ]
  },
  {
   "cell_type": "code",
   "execution_count": 32,
   "id": "5fa6d359-fd59-4f46-be81-e38fa8cca3a1",
   "metadata": {},
   "outputs": [
    {
     "name": "stdout",
     "output_type": "stream",
     "text": [
      "Product Name: Wireless Mouse       Product SKU: WM-12345\n"
     ]
    }
   ],
   "source": [
    "# Create the product information dictionary\n",
    "\n",
    "product_info = {\n",
    "    \"product_name\": \"Wireless Mouse\",\n",
    "    \"SKU\": \"WM-12345\",\n",
    "    \"price\": 25.99,\n",
    "    \"category\": \"Electronics\"\n",
    "}\n",
    "\n",
    "# Access and print the required values\n",
    "print(\"Product Name:\", product_info[\"product_name\"], \"      Product SKU:\", product_info[\"SKU\"])\n"
   ]
  },
  {
   "cell_type": "code",
   "execution_count": 107,
   "id": "035f9bba-cf41-4933-a6ad-31b29a450b00",
   "metadata": {},
   "outputs": [
    {
     "name": "stdin",
     "output_type": "stream",
     "text": [
      "Enter the field you want to query (SKU / price / category):  price\n"
     ]
    },
    {
     "name": "stdout",
     "output_type": "stream",
     "text": [
      "\n",
      "Field                Value\n",
      "----------------------------------------\n",
      "Product Name:        Wireless Mouse\n",
      "price:               25.99\n",
      "----------------------------------------\n"
     ]
    }
   ],
   "source": [
    "# Product information\n",
    "product_info = {\n",
    "    \"product_name\": \"Wireless Mouse\",\n",
    "    \"SKU\": \"WM-12345\",\n",
    "    \"price\": 25.99,\n",
    "    \"category\": \"Electronics\"\n",
    "}\n",
    "\n",
    "# Valid fields (lowercase)\n",
    "valid_fields = [\"sku\", \"price\", \"category\"]\n",
    "\n",
    "# Prompt user to enter any field other than product_name\n",
    "# strip() is used to remove any leading and trailing space and lower() is used to convert the text into lowercase\n",
    "field = input(\"Enter the field you want to query (SKU / price / category): \").strip().lower()  \n",
    "\n",
    "# Check if field is valid\n",
    "if field in valid_fields:\n",
    "    if field == \"sku\":  # because dict key is uppercase\n",
    "        key = \"SKU\"\n",
    "    else:\n",
    "        key = field\n",
    "\n",
    "    # Display result\n",
    "    print(f\"\\n{'Field':<20} {'Value'}\")\n",
    "    print(\"-\" * 40)\n",
    "    print(f\"{'Product Name:':<20} {product_info['product_name']}\")\n",
    "    print(f\"{key + ':':<20} {str(product_info[key])}\")\n",
    "    print(\"-\" * 40)\n",
    "\n",
    "else:\n",
    "    # show error\n",
    "    print(f\"\\nInvalid field: {field}\")\n",
    "    print(f\"Please choose one of: SKU, price, category\")\n"
   ]
  },
  {
   "cell_type": "code",
   "execution_count": null,
   "id": "f9383620-cac6-4508-b75d-45e751376771",
   "metadata": {},
   "outputs": [],
   "source": []
  },
  {
   "cell_type": "markdown",
   "id": "ffa4bed9-7a30-44c9-bd6a-54f0ecb2147d",
   "metadata": {},
   "source": [
    "#### Task 5: Stock Level Alert System\n",
    "##### Objective: Ensuring that stock levels are maintained is critical to avoid stockouts.\n",
    "\n",
    "- Write the code that takes the stock level as input\n",
    "-  If stock is below a certain threshold, print a \"Reorder Now\" alert. If stock is\n",
    "above the threshold, print \"Stock is sufficient.\""
   ]
  },
  {
   "cell_type": "code",
   "execution_count": 239,
   "id": "1f27d5ed-c61c-431d-ba8d-17cfcb12bd55",
   "metadata": {},
   "outputs": [
    {
     "name": "stdin",
     "output_type": "stream",
     "text": [
      "Enter stock level:  25\n"
     ]
    },
    {
     "name": "stdout",
     "output_type": "stream",
     "text": [
      "\n",
      "Stock Level Check\n",
      "----------------------------------------\n",
      "Stock Level:         25\n",
      "Threshold:           20\n",
      "Status:              Stock is sufficient\n",
      "----------------------------------------\n"
     ]
    }
   ],
   "source": [
    "# Set the stock threshold\n",
    "threshold = 20\n",
    "\n",
    "# Take stock level input from the user\n",
    "stock_level = int(input(\"Enter stock level: \"))\n",
    "\n",
    "# Check if stock is below the threshold\n",
    "if stock_level < threshold:\n",
    "    status = \"Reorder Now\"\n",
    "else:\n",
    "    status = \"Stock is sufficient\"\n",
    "\n",
    "print(\"\\nStock Level Check\")\n",
    "print(\"-\" * 40)\n",
    "print(f\"{'Stock Level:':<20} {stock_level:}\")\n",
    "print(f\"{'Threshold:':<20} {threshold:}\")\n",
    "print(f\"{'Status:':<20} {status:}\")\n",
    "print(\"-\" * 40)\n",
    "\n"
   ]
  },
  {
   "cell_type": "code",
   "execution_count": null,
   "id": "c204820c-4961-4a9b-abc0-4dc010f64f9d",
   "metadata": {},
   "outputs": [],
   "source": []
  },
  {
   "cell_type": "markdown",
   "id": "bb495be6-1244-477d-bc9c-fa638427d915",
   "metadata": {},
   "source": [
    "#### Task 6: Sales Report Formatting\n",
    "##### Objective: Formatting the sales data for management reports is crucial\n",
    "- Given a list of products sold, print each product name in uppercase for better\n",
    "visibility in reports.\n",
    "-  Implement both a `for` loop and a `while` loop for this task to ensure code\n",
    "flexibility."
   ]
  },
  {
   "cell_type": "code",
   "execution_count": 138,
   "id": "fcc19650-a036-42c7-9c32-7ca08132ee14",
   "metadata": {},
   "outputs": [
    {
     "name": "stdout",
     "output_type": "stream",
     "text": [
      "=== Sales Report ===\n",
      "----------------------------------------\n",
      "LAPTOP\n",
      "MOUSE\n",
      "KEYBOARD\n",
      "MONITOR\n",
      "PRINTER\n",
      "----------------------------------------\n"
     ]
    }
   ],
   "source": [
    "# creating list of products sold\n",
    "products_sold = [\"laptop\", \"mouse\", \"keyboard\", \"monitor\", \"printer\"]\n",
    "\n",
    "# Display using for loop\n",
    "print(\"=== Sales Report ===\")\n",
    "print(\"-\"*40)\n",
    "for x in products_sold:\n",
    "    print(x.upper())\n",
    "print(\"-\"*40)\n"
   ]
  },
  {
   "cell_type": "code",
   "execution_count": 133,
   "id": "c3f62c18-f865-4e0b-84e4-81bf7eb72602",
   "metadata": {},
   "outputs": [
    {
     "name": "stdout",
     "output_type": "stream",
     "text": [
      "\n",
      "=== Sales Report ===\n",
      "----------------------------------------\n",
      "LAPTOP\n",
      "MOUSE\n",
      "KEYBOARD\n",
      "MONITOR\n",
      "PRINTER\n",
      "----------------------------------------\n"
     ]
    }
   ],
   "source": [
    "# creating list of products sold\n",
    "products_sold = [\"laptop\", \"mouse\", \"keyboard\", \"monitor\", \"printer\"]\n",
    "\n",
    "# Display using While loop\n",
    "print(\"\\n=== Sales Report ===\")\n",
    "print(\"-\"*40)\n",
    "i = 0\n",
    "while i < len(products_sold):\n",
    "    print(products_sold[i].upper())\n",
    "    i += 1\n",
    "print(\"-\"*40)"
   ]
  },
  {
   "cell_type": "code",
   "execution_count": null,
   "id": "aad4b136-053f-4560-ab51-b8030d81ef49",
   "metadata": {},
   "outputs": [],
   "source": []
  },
  {
   "cell_type": "markdown",
   "id": "9ce320f3-a76e-4376-b0ff-a5cada539f6d",
   "metadata": {},
   "source": [
    "#### Task 7: Area Calculation for Store Layout\n",
    "##### Objective: Accurate area calculations are needed to plan new store layouts\n",
    "- Create a function that calculates the area of a section of the store based on\n",
    "length and width\n",
    "- Use this function to calculate and print the area of several store sections."
   ]
  },
  {
   "cell_type": "code",
   "execution_count": 233,
   "id": "5be4c55c-2cee-4087-819c-dc81a73d8448",
   "metadata": {},
   "outputs": [
    {
     "name": "stdout",
     "output_type": "stream",
     "text": [
      "\n",
      "The area of section 1 is\n",
      "------------------------------------------------------------------\n",
      "Section         | Length (m)      | Width (m)       | Area (sq.m)    \n",
      "1               | 20              | 15              | 300            \n",
      "------------------------------------------------------------------\n"
     ]
    }
   ],
   "source": [
    "# Define the area calculation function\n",
    "def calculate_area(length, width):\n",
    "    return length * width\n",
    "\n",
    "# Main function to use the area calculator\n",
    "\n",
    "def main():\n",
    "    length1, width1 = 20, 15\n",
    "    area1 = calculate_area(length1, width1)\n",
    "    \n",
    "    print(\"\\nThe area of section 1 is\")\n",
    "    print(\"-\" * 66)\n",
    "    print(f\"{'Section':<15} | {'Length (m)':<15} | {'Width (m)':<15} | {'Area (sq.m)':<15}\")\n",
    "    print(f\"{'1':<15} | {length1:<15} | {width1:<15} | {area1:<15}\")\n",
    "    print(\"-\" * 66)\n",
    "\n",
    "# Run the main function\n",
    "main()\n"
   ]
  },
  {
   "cell_type": "code",
   "execution_count": null,
   "id": "1ca05d82-7020-4cb9-a733-164e98ec8552",
   "metadata": {},
   "outputs": [],
   "source": []
  },
  {
   "cell_type": "markdown",
   "id": "ff56a488-3ddf-4f43-803c-57fa2aeda8af",
   "metadata": {},
   "source": [
    "#### Task 8: Customer Feedback Analysis\n",
    "##### Objective: Analyzing customer feedback is vital to improving service\n",
    "-  Write the code to count the number of vowels in a customer feedback\n",
    "message.\n",
    "- Also, reverse the feedback message for a unique data presentation in reports"
   ]
  },
  {
   "cell_type": "code",
   "execution_count": 187,
   "id": "401f78da-2a89-400e-889f-988baee0dc48",
   "metadata": {},
   "outputs": [
    {
     "name": "stdout",
     "output_type": "stream",
     "text": [
      "-----------------------------------------------------------------\n",
      "Customer Feedback Analysis:\n",
      "Original Feedback: The service was excellent and very quick!\n",
      "Number of Vowels: 12\n",
      "Reversed Feedback: !kciuq yrev dna tnellecxe saw ecivres ehT\n",
      "-----------------------------------------------------------------\n"
     ]
    }
   ],
   "source": [
    "# Input the customer feedback\n",
    "feedback = \"The service was excellent and very quick!\"\n",
    "\n",
    "# Count the number of vowels\n",
    "vowels = \"aeiouAEIOU\"        # Includes both lowercase and uppercase vowels\n",
    "vowel_count = 0\n",
    "\n",
    "for char in feedback:\n",
    "    if char in vowels:\n",
    "        vowel_count += 1\n",
    "\n",
    "# Reverse the feedback message\n",
    "reversed_feedback = feedback[::-1]\n",
    "\n",
    "# Display the results\n",
    "print(\"-\" * 65)\n",
    "print(\"Customer Feedback Analysis:\")\n",
    "print(\"Original Feedback:\", feedback)\n",
    "print(\"Number of Vowels:\", vowel_count)\n",
    "print(\"Reversed Feedback:\", reversed_feedback)\n",
    "print(\"-\" * 65)"
   ]
  },
  {
   "cell_type": "code",
   "execution_count": null,
   "id": "accd921c-6c2e-4368-a9a9-e130aca50538",
   "metadata": {},
   "outputs": [],
   "source": []
  },
  {
   "cell_type": "markdown",
   "id": "474b7934-89db-4daf-8b30-eb38042c6455",
   "metadata": {},
   "source": [
    "#### Task 9: Price Filtering Tool\n",
    "##### Objective: Filtering product prices helps in creating targeted discounts\n",
    "- Use list comprehension to filter out products priced below a certain threshold\n",
    "from the product list.\n",
    "- Print the list of eligible products for a discount campaign.\n"
   ]
  },
  {
   "cell_type": "code",
   "execution_count": 194,
   "id": "73ff104c-615c-44e2-b74a-5df5d8c942c7",
   "metadata": {},
   "outputs": [
    {
     "name": "stdout",
     "output_type": "stream",
     "text": [
      "------------------------------------------------------------\n",
      "Products eligible for the discount campaign: [85, 45]\n",
      "------------------------------------------------------------\n"
     ]
    }
   ],
   "source": [
    "# Sample input\n",
    "product_prices = [150, 85, 300, 120, 45, 200]\n",
    "discount_threshold = 100\n",
    "\n",
    "# Use list comprehension to filter eligible products\n",
    "eligible_products = [x for x in product_prices if x < discount_threshold]\n",
    "\n",
    "# Print the result\n",
    "print(\"-\" * 60)\n",
    "print(\"Products eligible for the discount campaign:\", eligible_products)\n",
    "print(\"-\" * 60)"
   ]
  },
  {
   "cell_type": "code",
   "execution_count": null,
   "id": "8beefa6d-e54e-4012-ba50-b32ae587b8ce",
   "metadata": {},
   "outputs": [],
   "source": []
  },
  {
   "cell_type": "markdown",
   "id": "b0a78cf5-557a-4260-8b1f-dc1322cc6d2f",
   "metadata": {},
   "source": [
    "#### Task 10: Sales Log File Management\n",
    "##### Objective: Proper management of sales log files is necessary for compliance and audit purposes\n",
    "\n",
    "- Create a text file named `sales_log.txt` to store daily sales summaries\n",
    "- Write two lines summarizing the daily sales performance.\n",
    "- Read and print the content of the file to ensure data integrity."
   ]
  },
  {
   "cell_type": "code",
   "execution_count": 225,
   "id": "514cfda6-4496-4906-beec-b7c08a51f361",
   "metadata": {},
   "outputs": [
    {
     "name": "stdout",
     "output_type": "stream",
     "text": [
      "Content of 'sales_log.txt':\n",
      "------------------------------\n",
      "Total sales today: $12,345.\n",
      "Number of transactions: 123.\n",
      "\n"
     ]
    }
   ],
   "source": [
    "# Define sales summary lines\n",
    "line1 = \"Total sales today: $12,345.\"\n",
    "line2 = \"Number of transactions: 123.\"\n",
    "\n",
    "# Create & write to the file\n",
    "with open(\"sales_log.txt\", \"w\") as file:\n",
    "    file.write(line1 + \"\\n\")\n",
    "    file.write(line2 + \"\\n\")\n",
    "\n",
    "# Read the file to ensure data integrity\n",
    "\n",
    "print(\"Content of 'sales_log.txt':\")\n",
    "print(\"-\" * 30)\n",
    "with open(\"sales_log.txt\", \"r\") as file:\n",
    "    content = file.read()\n",
    "    print(content)\n",
    "    "
   ]
  },
  {
   "cell_type": "code",
   "execution_count": null,
   "id": "6f594689-e560-4560-a42d-f2f01deefd1f",
   "metadata": {},
   "outputs": [],
   "source": []
  },
  {
   "cell_type": "markdown",
   "id": "4c9819c1-8d4f-4753-ae4e-4c1449fde42c",
   "metadata": {},
   "source": [
    "#### Task 11: Daily Sales Average\n",
    "##### Objective: Calculate the average daily sales for the past week\n",
    "- Given a list of sales figures for the last 7 days, calculate the average sales.\n",
    "- Print the average sales to help the finance team understand the weekly\n",
    "performance"
   ]
  },
  {
   "cell_type": "code",
   "execution_count": 207,
   "id": "d1d78633-03a1-4076-8ecd-37db1b11cef7",
   "metadata": {},
   "outputs": [
    {
     "name": "stdout",
     "output_type": "stream",
     "text": [
      "--------------------------------------------------\n",
      "Average Daily Sales for the Past Week: $1471.43\n",
      "--------------------------------------------------\n"
     ]
    }
   ],
   "source": [
    "# Sample input\n",
    "daily_sales = [1200, 1500, 1100, 1800, 1700, 1600, 1400]\n",
    "\n",
    "# Calculate the total sales\n",
    "total_sales = sum(daily_sales)\n",
    "\n",
    "# Calculate the average\n",
    "average_sales = total_sales / len(daily_sales)\n",
    "\n",
    "# Print the result rounded to 2 decimal places\n",
    "print(\"-\" * 50)\n",
    "print(f\"Average Daily Sales for the Past Week: ${average_sales:.2f}\")\n",
    "print(\"-\" * 50)\n"
   ]
  },
  {
   "cell_type": "code",
   "execution_count": null,
   "id": "ab8efe90-996a-4686-8d76-e485805f5f71",
   "metadata": {},
   "outputs": [],
   "source": []
  },
  {
   "cell_type": "markdown",
   "id": "eb5df0c2-deaa-415e-bc32-200de5027f60",
   "metadata": {},
   "source": [
    "#### Task 12: Customer Segmentation\n",
    "##### Objective: Categorize customers based on their total spending\n",
    "- Create a list of customer spending amounts.\n",
    "- Use a loop to categorize customers as \"Low\", \"Medium\", or \"High\" spenders\n",
    "based on their spending amount.\n",
    "- Print the categorized results to assist in targeted marketing."
   ]
  },
  {
   "cell_type": "code",
   "execution_count": 221,
   "id": "68c0149a-0840-43a0-b5c4-5b346127fe31",
   "metadata": {},
   "outputs": [
    {
     "name": "stdout",
     "output_type": "stream",
     "text": [
      "\n",
      "Customer Spending Categories\n",
      "--------------------------------------------------\n",
      "Customer     | Spending ($)    | Category  \n",
      "--------------------------------------------------\n",
      "1            | 200             | Low       \n",
      "2            | 800             | Medium    \n",
      "3            | 1500            | High      \n",
      "4            | 3000            | High      \n",
      "5            | 450             | Low       \n",
      "6            | 1200            | Medium    \n",
      "--------------------------------------------------\n"
     ]
    }
   ],
   "source": [
    "# Sample input\n",
    "customer_spendings = [200, 800, 1500, 3000, 450, 1200]\n",
    "\n",
    "print(\"\\nCustomer Spending Categories\")\n",
    "print(\"-\" * 50)\n",
    "print(f\"{'Customer':<12} | {'Spending ($)':<15} | {'Category':<10}\")\n",
    "print(\"-\" * 50)\n",
    "\n",
    "n = 1  # Start customer counter\n",
    "\n",
    "for i in customer_spendings:\n",
    "    if i < 500:\n",
    "        category = \"Low\"\n",
    "    elif 500 <= i < 1500:\n",
    "        category = \"Medium\"\n",
    "    else:\n",
    "        category = \"High\"\n",
    "    \n",
    "    # Enhanced display here\n",
    "    print(f\"{n:<12} | {i:<15} | {category:<10}\")\n",
    "    n += 1  # Move to next customer\n",
    "\n",
    "print(\"-\" * 50)\n"
   ]
  },
  {
   "cell_type": "code",
   "execution_count": null,
   "id": "de8ae83a-332d-4bf1-8ae3-b8459dbe432c",
   "metadata": {},
   "outputs": [],
   "source": []
  },
  {
   "cell_type": "markdown",
   "id": "f9dc621e-2a70-49cd-9bdf-664890e4db3c",
   "metadata": {},
   "source": [
    "#### Task 13: Discount Calculation\n",
    "##### Objective: Automate the calculation of discounts for a promotional campaign\n",
    "\n",
    "- Write a code that calculates the final price after applying a discount\n",
    "percentage to a product’s original price.\n",
    "- Test this function on a list of products with different discounts and print the\n",
    "final prices.\n"
   ]
  },
  {
   "cell_type": "code",
   "execution_count": 244,
   "id": "34d4f536-d924-4ae3-8a1d-94d350f50a61",
   "metadata": {},
   "outputs": [
    {
     "name": "stdout",
     "output_type": "stream",
     "text": [
      "\n",
      "Final Prices After Discounts\n",
      "======================================================================\n",
      "Product    | Original Price ($) | Discount (%) | Final Price ($)\n",
      "----------------------------------------------------------------------\n",
      "1          | 100.00             | 10           | 90.00         \n",
      "2          | 250.00             | 20           | 200.00        \n",
      "3          | 75.00              | 15           | 63.75         \n",
      "4          | 150.00             | 5            | 142.50        \n",
      "======================================================================\n"
     ]
    }
   ],
   "source": [
    "# Define the function to calculate final price\n",
    "def calculate_discounted_price(original_price, discount_percentage):\n",
    "    discount_amount = (discount_percentage / 100) * original_price\n",
    "    final_price = original_price - discount_amount\n",
    "    return final_price\n",
    "\n",
    "products = [\n",
    "    {\"name\": \"Product A\", \"original_price\": 100, \"discount_percentage\": 10},\n",
    "    {\"name\": \"Product B\", \"original_price\": 250, \"discount_percentage\": 20},\n",
    "    {\"name\": \"Product C\", \"original_price\": 75,  \"discount_percentage\": 15},\n",
    "    {\"name\": \"Product D\", \"original_price\": 150, \"discount_percentage\": 5}\n",
    "]\n",
    "\n",
    "print(\"\\nFinal Prices After Discounts\")\n",
    "print(\"=\" * 70)\n",
    "print(f\"{'Product':<10} | {'Original Price ($)':<18} | {'Discount (%)':<12} | {'Final Price ($)':<14}\")\n",
    "print(\"-\" * 70)\n",
    "\n",
    "n = 1   # initialize counter\n",
    "for i in products:\n",
    "    original = i[\"original_price\"]\n",
    "    discount = i[\"discount_percentage\"]\n",
    "    final = calculate_discounted_price(original, discount)\n",
    "\n",
    "    print(f\"{n:<10} | {original:<18.2f} | {discount:<12} | {final:<14.2f}\")\n",
    "    n += 1  # increment counter\n",
    "\n",
    "print(\"=\" * 70)\n"
   ]
  },
  {
   "cell_type": "code",
   "execution_count": null,
   "id": "452d46b6-cb21-48f3-94cc-da17be41149b",
   "metadata": {},
   "outputs": [],
   "source": []
  },
  {
   "cell_type": "markdown",
   "id": "6e1ee4f5-9b87-41ee-ad01-0bf62c749903",
   "metadata": {},
   "source": [
    "#### Task 14: Customer Feedback Sentiment Analysis\n",
    "##### Objective: Basic sentiment analysis of customer feedback\n",
    "- Write the Python code that checks if certain positive or negative words (e.g.,\n",
    "\"good\", \"bad\", \"happy\", \"disappointed\") are present in customer feedback.\n",
    "- Print \"Positive\" or \"Negative\" based on the words found in the feedback.\n"
   ]
  },
  {
   "cell_type": "code",
   "execution_count": 257,
   "id": "5b778379-316f-4d4a-824e-c0262d2a9af3",
   "metadata": {},
   "outputs": [
    {
     "name": "stdin",
     "output_type": "stream",
     "text": [
      "Enter customer feedback:  good\n"
     ]
    },
    {
     "name": "stdout",
     "output_type": "stream",
     "text": [
      "\n",
      "Customer Feedback Analysis\n",
      "----------------------------------------\n",
      "Feedback Entered : good\n",
      "Sentiment        : Positive\n",
      "----------------------------------------\n"
     ]
    }
   ],
   "source": [
    "# Positive and Negative word lists\n",
    "positive_words = [\"good\", \"happy\", \"excellent\", \"great\"]\n",
    "negative_words = [\"bad\", \"disappointed\", \"poor\", \"terrible\"]\n",
    "\n",
    "# Take feedback from user\n",
    "feedback = input(\"Enter customer feedback: \")\n",
    "\n",
    "# Convert feedback to lowercase for case-insensitive matching\n",
    "feedback_lower = feedback.lower()\n",
    "\n",
    "# Check for positive and negative words\n",
    "positive = any(word in feedback_lower for word in positive_words)\n",
    "negative = any(word in feedback_lower for word in negative_words)\n",
    "\n",
    "# Determine sentiment\n",
    "if positive and not negative:\n",
    "    sentiment = \"Positive\"\n",
    "elif negative and not positive:\n",
    "    sentiment = \"Negative\"\n",
    "elif positive and negative:\n",
    "    sentiment = \"Mixed\"\n",
    "else:\n",
    "    sentiment = \"Neutral\"\n",
    "\n",
    "# Output\n",
    "print(\"\\nCustomer Feedback Analysis\")\n",
    "print(\"-\" * 40)\n",
    "print(f\"Feedback Entered : {feedback}\")\n",
    "print(f\"Sentiment        : {sentiment}\")\n",
    "print(\"-\" * 40)\n",
    "\n"
   ]
  },
  {
   "cell_type": "code",
   "execution_count": null,
   "id": "04625604-b243-4ce4-96f5-d36db1cd8cac",
   "metadata": {},
   "outputs": [],
   "source": []
  },
  {
   "cell_type": "markdown",
   "id": "856c73b2-b611-45aa-8452-eb4943f5c57c",
   "metadata": {},
   "source": [
    "#### Task 15: Employee Salary Increment Calculator\n",
    "##### Objective: Calculate the salary increment for employees based on their performance rating\n",
    "\n",
    "\n",
    "- Create a dictionary that stores employee names and their performance\n",
    "ratings.\n",
    "- Write the code that applies a different increment percentage based on the\n",
    "rating.\n",
    "- Print the updated salary for each employee"
   ]
  },
  {
   "cell_type": "code",
   "execution_count": 269,
   "id": "dd986fdc-0b4b-44c3-9ca1-749e0eb21d94",
   "metadata": {},
   "outputs": [
    {
     "name": "stdout",
     "output_type": "stream",
     "text": [
      "\n",
      "Updated Salaries After Increment\n",
      "------------------------------------------------------------\n",
      "Name       |  Current Salary | Rating     |  Updated Salary\n",
      "------------------------------------------------------------\n",
      "Saket      | $     50,000.00 | Excellent  | $     60,000.00\n",
      "Lalita     | $     40,000.00 | Good       | $     46,000.00\n",
      "Sanidhya   | $     45,000.00 | Average    | $     49,500.00\n",
      "Aeshan     | $     35,000.00 | Poor       | $     36,750.00\n",
      "------------------------------------------------------------\n"
     ]
    }
   ],
   "source": [
    "# Define employee data: current salary and rating\n",
    "employees = {\n",
    "    \"Saket\": {\"current_salary\": 50000, \"rating\": \"Excellent\"},\n",
    "    \"Lalita\": {\"current_salary\": 40000, \"rating\": \"Good\"},\n",
    "    \"Sanidhya\": {\"current_salary\": 45000, \"rating\": \"Average\"},\n",
    "    \"Aeshan\": {\"current_salary\": 35000, \"rating\": \"Poor\"}\n",
    "}\n",
    "\n",
    "# Define increments for each rating\n",
    "increments = {\n",
    "    \"Excellent\": 20,\n",
    "    \"Good\": 15,\n",
    "    \"Average\": 10,\n",
    "    \"Poor\": 5\n",
    "}\n",
    "\n",
    "# Print the heading\n",
    "print(\"\\nUpdated Salaries After Increment\")\n",
    "print(\"-\" * 60)\n",
    "print(f\"{'Name':<10} | {'Current Salary':>15} | {'Rating':<10} | {'Updated Salary':>15}\")\n",
    "print(\"-\" * 60)\n",
    "\n",
    "# Loop through each employee\n",
    "for name in employees:\n",
    "    current_salary = employees[name][\"current_salary\"]\n",
    "    rating = employees[name][\"rating\"]\n",
    "    increment_percent = increments[rating]\n",
    "\n",
    "    # Calculate updated salary\n",
    "    updated_salary = current_salary + (current_salary * increment_percent / 100)\n",
    "\n",
    "    # Print the result in formatted columns\n",
    "    print(f\"{name:<10} | ${current_salary:>14,.2f} | {rating:<10} | ${updated_salary:>14,.2f}\")\n",
    "\n",
    "print(\"-\" * 60)\n"
   ]
  },
  {
   "cell_type": "markdown",
   "id": "48147d3f-b559-41d8-b036-f8b8a8395428",
   "metadata": {},
   "source": [
    "#### Task 16: Monthly Sales Report \n",
    "##### Objective: Generate a simple text-based monthly sales report.\n",
    "\n",
    "- Create a list of daily sales figures for a month.\n",
    "- Calculate the total and average sales for the month.\n",
    "- Write these statistics to a text file named monthly_report.txt.\n"
   ]
  },
  {
   "cell_type": "code",
   "execution_count": 290,
   "id": "e4d7c9f9-05e4-40a1-a952-922593d3fc81",
   "metadata": {},
   "outputs": [
    {
     "name": "stdout",
     "output_type": "stream",
     "text": [
      "Monthly sales report has been saved to 'monthly_report.txt'.\n",
      "Monthly Sales Report\n",
      "----------------------------------------\n",
      "Total Days          : 30\n",
      "Total Sales         : $10,300.00\n",
      "Average Daily Sales : $343.33\n",
      "----------------------------------------\n",
      "\n"
     ]
    }
   ],
   "source": [
    "# Sample input: daily sales for a month\n",
    "daily_sales = [\n",
    "    200, 250, 300, 400, 350, 500, 450, 300, 250, 400,\n",
    "    200, 300, 450, 500, 400, 250, 350, 300, 450, 400,\n",
    "    250, 300, 200, 400, 350, 300, 500, 450, 300, 250\n",
    "]\n",
    "\n",
    "# Calculate total sales\n",
    "total_sales = sum(daily_sales)\n",
    "\n",
    "# Calculate average sales\n",
    "number_of_days = len(daily_sales)\n",
    "average_sales = total_sales / number_of_days\n",
    "\n",
    "# Create the report text\n",
    "report = \"\"\n",
    "report += \"Monthly Sales Report\\n\"\n",
    "report += \"-\" * 40 + \"\\n\"\n",
    "report += f\"{'Total Days':<20}: {number_of_days}\\n\"\n",
    "report += f\"{'Total Sales':<20}: ${total_sales:,.2f}\\n\"\n",
    "report += f\"{'Average Daily Sales':<20}: ${average_sales:,.2f}\\n\"\n",
    "report += \"-\" * 40 + \"\\n\"\n",
    "\n",
    "# Write the report to a file\n",
    "file = open(\"monthly_report.txt\", \"w\")  # open the file in write mode\n",
    "file.write(report)                      # write the report text to the file\n",
    "file.close()                            # close the file\n",
    "\n",
    "# Tell the user that the report is ready\n",
    "print(\"Monthly sales report has been saved to 'monthly_report.txt'.\")\n",
    "file = open(\"monthly_report.txt\", \"r\")\n",
    "saved_report = file.read()\n",
    "file.close()\n",
    "\n",
    "print(saved_report)                     # display the report\n"
   ]
  },
  {
   "cell_type": "code",
   "execution_count": null,
   "id": "83bea7c7-215c-4b33-a889-2c05564c5829",
   "metadata": {},
   "outputs": [],
   "source": []
  },
  {
   "cell_type": "markdown",
   "id": "1e1ff54c-bedd-48ef-b34d-215b92a6ce7e",
   "metadata": {},
   "source": [
    "#### Task 17: Stock Replenishment Planning\n",
    "##### Objective: Determine which products need replenishment based on sales data\n",
    "- Given a list of products and their current stock levels, compare these against\n",
    "a predefined threshold.\n",
    "- Print a list of products that need to be reordered to maintain adequate stock\n",
    "levels."
   ]
  },
  {
   "cell_type": "code",
   "execution_count": 297,
   "id": "0137d0f1-9021-4696-b81b-221d3bc40a9b",
   "metadata": {},
   "outputs": [
    {
     "name": "stdout",
     "output_type": "stream",
     "text": [
      "\n",
      "Products that need replenishment\n",
      "----------------------------------------\n",
      "Product Name         |  Stock\n",
      "----------------------------------------\n",
      "Product C            |     30\n",
      "Product E            |     20\n",
      "----------------------------------------\n"
     ]
    }
   ],
   "source": [
    "# Sample input\n",
    "products = [\n",
    "    {\"product_name\": \"Product A\", \"stock\": 50},\n",
    "    {\"product_name\": \"Product B\", \"stock\": 150},\n",
    "    {\"product_name\": \"Product C\", \"stock\": 30},\n",
    "    {\"product_name\": \"Product D\", \"stock\": 75},\n",
    "    {\"product_name\": \"Product E\", \"stock\": 20}\n",
    "]\n",
    "\n",
    "threshold = 40\n",
    "\n",
    "# Print heading\n",
    "print(\"\\nProducts that need replenishment\")\n",
    "print(\"-\" * 40)\n",
    "print(f\"{'Product Name':<20} | {'Stock':>6}\")\n",
    "print(\"-\" * 40)\n",
    "\n",
    "# Loop through products and check stock\n",
    "for i in products:\n",
    "    name = i[\"product_name\"]\n",
    "    stock = i[\"stock\"]\n",
    "\n",
    "    if stock < threshold:\n",
    "        print(f\"{name:<20} | {stock:>6}\")\n",
    "\n",
    "print(\"-\" * 40)\n"
   ]
  },
  {
   "cell_type": "markdown",
   "id": "e9c32fac-7133-4745-a1dc-45a307295033",
   "metadata": {},
   "source": [
    "#### Task 18: Data Cleaning Utility\n",
    "##### Objective: Create a utility to clean customer names for better data consistency\n",
    "- Write the code that takes a list of customer names with extra spaces and\n",
    "inconsistent capitalization.\n",
    "- Clean the names by trimming spaces and standardizing the capitalization\n",
    "(e.g., \"JOHN DOE\" -> \"John Doe\").\n",
    "- Print the cleaned names for database entry"
   ]
  },
  {
   "cell_type": "code",
   "execution_count": 302,
   "id": "a59eee0f-2dc4-4040-b78f-efab8dcbbd25",
   "metadata": {},
   "outputs": [
    {
     "name": "stdout",
     "output_type": "stream",
     "text": [
      "Cleaned Customer Names for Database Entry:\n",
      "1      | John Doe\n",
      "2      | Mary Smith\n",
      "3      | Alice Johnson\n",
      "4      | Bob White\n",
      "----------------------------------------\n"
     ]
    }
   ],
   "source": [
    "customer_names = [\n",
    "    \" john doe \",\n",
    "    \" MARY SMITH \",\n",
    "    \" aLICE JOHNSON \",\n",
    "    \"bOB WHITE\"\n",
    "]\n",
    "\n",
    "# Print heading\n",
    "print(\"Cleaned Customer Names for Database Entry:\")\n",
    "\n",
    "# Loop through names and clean them\n",
    "n = 1\n",
    "for name in customer_names:\n",
    "    # Remove extra spaces and convert to title case\n",
    "    cleaned_name = name.strip().title()\n",
    "    print(f\"{n:<6} | {cleaned_name}\")\n",
    "    n += 1\n",
    "\n",
    "print(\"-\" * 40)\n"
   ]
  },
  {
   "cell_type": "markdown",
   "id": "a79e3729-1846-4f70-9185-2b227dc079b1",
   "metadata": {},
   "source": [
    "#### Task 19: Simple Sales Forecasting\n",
    "##### Objective: Implement a basic forecasting model for next month’s sales\n",
    "- Based on the average sales of the last 3 months, predict next month’s sales\n",
    "using a simple average.\n",
    "- Print the forecasted sales figures for budget planning"
   ]
  },
  {
   "cell_type": "code",
   "execution_count": 308,
   "id": "6dffe82e-c4b3-410a-976b-9313e23e7ab1",
   "metadata": {},
   "outputs": [
    {
     "name": "stdout",
     "output_type": "stream",
     "text": [
      "----------------------------------------\n",
      "Forecasted Sales for Next Month: $22333.33\n",
      "----------------------------------------\n"
     ]
    }
   ],
   "source": [
    "def main():\n",
    "    # Sample input: sales of the last 3 months\n",
    "    sales_last_3_months = [20000, 22000, 25000]\n",
    "\n",
    "    # Calculate average sales\n",
    "    total_sales = sum(sales_last_3_months)\n",
    "    number_of_months = len(sales_last_3_months)\n",
    "    average_sales = total_sales / number_of_months\n",
    "\n",
    "    # Print forecast\n",
    "    print(\"-\" * 40)\n",
    "    print(\"Forecasted Sales for Next Month: $\" + format(average_sales, \".2f\"))\n",
    "    print(\"-\" * 40)\n",
    "\n",
    "# Call the main function\n",
    "main()\n"
   ]
  },
  {
   "cell_type": "markdown",
   "id": "12afddae-0482-4d20-a970-38edb26ac092",
   "metadata": {},
   "source": [
    "#### Task 20: Customer Loyalty Points Calculator\n",
    "##### Objective: Calculate loyalty points for customers based on their purchases\n",
    "- Write a code that assigns loyalty points to customers based on their total\n",
    "purchase amount.\n",
    "- Implement a tiered system where different spending levels earn different\n",
    "point multipliers.\n",
    "- Print the loyalty points for a list of customers"
   ]
  },
  {
   "cell_type": "code",
   "execution_count": 311,
   "id": "34f28d0c-0e15-49a3-884a-a3e5b08d81d1",
   "metadata": {},
   "outputs": [
    {
     "name": "stdout",
     "output_type": "stream",
     "text": [
      "\n",
      "Customer Loyalty Points\n",
      "------------------------------------------------------------\n",
      "Customer Name        | Purchase ($) |  Loyalty Points\n",
      "------------------------------------------------------------\n",
      "John Doe             |       250.00 |          375.00\n",
      "Jane Smith           |       500.00 |         1000.00\n",
      "Alice Johnson        |      1000.00 |         2000.00\n",
      "Bob White            |       150.00 |          150.00\n",
      "------------------------------------------------------------\n"
     ]
    }
   ],
   "source": [
    "# Sample input: customers and their purchases\n",
    "customers = {\n",
    "    \"John Doe\": 250,\n",
    "    \"Jane Smith\": 500,\n",
    "    \"Alice Johnson\": 1000,\n",
    "    \"Bob White\": 150\n",
    "}\n",
    "\n",
    "print(\"\\nCustomer Loyalty Points\")\n",
    "print(\"-\" * 60)\n",
    "print(f\"{'Customer Name':<20} | {'Purchase ($)':>12} | {'Loyalty Points':>15}\")\n",
    "print(\"-\" * 60)\n",
    "\n",
    "# Loop through each customer\n",
    "for name in customers:\n",
    "    purchase = customers[name]\n",
    "\n",
    "    # Tiered multiplier system\n",
    "    if purchase >= 1000:\n",
    "        multiplier = 2.0\n",
    "    elif purchase >= 500:\n",
    "        multiplier = 2.0\n",
    "    elif purchase >= 250:\n",
    "        multiplier = 1.5\n",
    "    else:\n",
    "        multiplier = 1.0\n",
    "\n",
    "    # Calculate points\n",
    "    points = purchase * multiplier\n",
    "\n",
    "    # Print result\n",
    "    print(f\"{name:<20} | {purchase:>12.2f} | {points:>15.2f}\")\n",
    "\n",
    "print(\"-\" * 60)\n"
   ]
  },
  {
   "cell_type": "code",
   "execution_count": null,
   "id": "e8696a49-dbc0-4d3d-9525-b509b4e0275c",
   "metadata": {},
   "outputs": [],
   "source": []
  }
 ],
 "metadata": {
  "kernelspec": {
   "display_name": "Python ipykernel",
   "language": "python",
   "name": "myenv"
  },
  "language_info": {
   "codemirror_mode": {
    "name": "ipython",
    "version": 3
   },
   "file_extension": ".py",
   "mimetype": "text/x-python",
   "name": "python",
   "nbconvert_exporter": "python",
   "pygments_lexer": "ipython3",
   "version": "3.10.16"
  }
 },
 "nbformat": 4,
 "nbformat_minor": 5
}
